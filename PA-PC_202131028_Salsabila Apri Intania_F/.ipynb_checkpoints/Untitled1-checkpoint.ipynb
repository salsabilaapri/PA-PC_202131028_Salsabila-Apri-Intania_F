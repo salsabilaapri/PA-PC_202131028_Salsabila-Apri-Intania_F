{
 "cells": [
  {
   "cell_type": "code",
   "execution_count": 5,
   "id": "72c2b4df",
   "metadata": {},
   "outputs": [],
   "source": [
    "from PIL import Image\n",
    "from rembg import remove\n",
    "import io"
   ]
  },
  {
   "cell_type": "code",
   "execution_count": null,
   "id": "bf35d363",
   "metadata": {},
   "outputs": [],
   "source": [
    "gambar_input = 'bgremove.jpg'\n",
    "gambar_output = "
   ]
  }
 ],
 "metadata": {
  "kernelspec": {
   "display_name": "Python 3 (ipykernel)",
   "language": "python",
   "name": "python3"
  },
  "language_info": {
   "codemirror_mode": {
    "name": "ipython",
    "version": 3
   },
   "file_extension": ".py",
   "mimetype": "text/x-python",
   "name": "python",
   "nbconvert_exporter": "python",
   "pygments_lexer": "ipython3",
   "version": "3.11.3"
  }
 },
 "nbformat": 4,
 "nbformat_minor": 5
}
